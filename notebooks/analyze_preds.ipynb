{
 "cells": [
  {
   "cell_type": "code",
   "execution_count": 287,
   "metadata": {},
   "outputs": [],
   "source": [
    "from collections import defaultdict\n",
    "\n",
    "import pandas as pd"
   ]
  },
  {
   "cell_type": "code",
   "execution_count": 288,
   "metadata": {},
   "outputs": [],
   "source": [
    "pred_df = pd.read_csv('../data/predictions.csv')\n",
    "data_row = pd.read_csv('../data/row_data.csv')"
   ]
  },
  {
   "cell_type": "code",
   "execution_count": 289,
   "metadata": {},
   "outputs": [
    {
     "data": {
      "text/plain": [
       "Index(['Text', 'fold', 'agr_rate', 'bert_fold_0', 'bert_fold_1', 'bert_fold_2',\n",
       "       'bert_fold_3', 'bart_fold_0', 'bart_fold_1', 'bart_fold_2',\n",
       "       'bart_fold_3', 'gptv2_fold_0', 'gptv2_fold_1', 'gptv2_fold_2',\n",
       "       'gptv2_fold_3'],\n",
       "      dtype='object')"
      ]
     },
     "execution_count": 289,
     "metadata": {},
     "output_type": "execute_result"
    }
   ],
   "source": [
    "pred_df.columns"
   ]
  },
  {
   "cell_type": "code",
   "execution_count": 290,
   "metadata": {},
   "outputs": [],
   "source": [
    "def ensemble_models(row):\n",
    "    model_names = [\n",
    "        'bert_fold_0', 'bert_fold_1',\n",
    "        'bart_fold_0', 'bart_fold_1',\n",
    "        'bart_fold_2', 'bart_fold_3',\n",
    "        'gptv2_fold_3'\n",
    "    ]\n",
    "\n",
    "    counter = 0\n",
    "    val = 0\n",
    "    for model_name in model_names:\n",
    "        train_fold = int(model_name.split('_')[-1])\n",
    "        counter += 1\n",
    "        val += row[model_name]\n",
    "    val = val / counter\n",
    "    return val"
   ]
  },
  {
   "cell_type": "code",
   "execution_count": 291,
   "metadata": {},
   "outputs": [],
   "source": [
    "pred_df['ensemb_preds'] = pred_df.apply(ensemble_models, axis=1)"
   ]
  },
  {
   "cell_type": "code",
   "execution_count": 292,
   "metadata": {},
   "outputs": [],
   "source": [
    "text_pred_map = {}\n",
    "for i in range(len(pred_df)):\n",
    "    row = pred_df.iloc[i]\n",
    "    text_pred_map[row.Text] = row['ensemb_preds'] > 0.5"
   ]
  },
  {
   "cell_type": "code",
   "execution_count": 293,
   "metadata": {},
   "outputs": [],
   "source": [
    "user_info = defaultdict(lambda: [0, 0])\n",
    "for i in range(len(data_row)):\n",
    "    row = data_row.iloc[i]\n",
    "    annotator_id = row['Annotator ID']\n",
    "    user_info[annotator_id][1] += 1\n",
    "    user_info[annotator_id][0] += row.Answer == text_pred_map[row.Text]"
   ]
  },
  {
   "cell_type": "code",
   "execution_count": 294,
   "metadata": {},
   "outputs": [],
   "source": [
    "error_rate = [\n",
    "    (user_name, i / j, j)\n",
    "    for user_name, (i, j) in user_info.items()\n",
    "    if j > 10\n",
    "]"
   ]
  },
  {
   "cell_type": "code",
   "execution_count": 295,
   "metadata": {},
   "outputs": [],
   "source": [
    "error_rate = sorted(error_rate, key=lambda x: x[1])"
   ]
  },
  {
   "cell_type": "code",
   "execution_count": 296,
   "metadata": {},
   "outputs": [
    {
     "name": "stdout",
     "output_type": "stream",
     "text": [
      "[('A3BJX6UUSOIKFN', 0.5339673913043478, 1472), ('A1MG8KNVSVZ365', 0.5512496489750071, 3561), ('AQIP3DSYXEXX5', 0.5618333813779187, 3469), ('A3OCJJMRKAIJZA', 0.5824835032993402, 5001), ('A33Y36Y252Z30U', 0.6060606060606061, 99), ('A3BCKNE5CWHODZ', 0.6521136521136521, 1443), ('A2CJFO19NY4T5R', 0.6594202898550725, 138), ('A3BISMR4GI02ZG', 0.6910002786291446, 3589), ('A9HQ3E0F2AGVO', 0.6926869350862778, 1217), ('A1YSYI926BBOHW', 0.7023809523809523, 84), ('A2KHLJ2F58BEZK', 0.7051282051282052, 78), ('AMYURTQIMAC8T', 0.7255639097744361, 532), ('AKSLU0C30G3JT', 0.7272727272727273, 11), ('A2A78DMGLC1S0Y', 0.73, 100), ('AKQAI78JTXXC9', 0.75, 20), ('A3MV3PT4TOO69P', 0.7543893874365978, 5126), ('AG36U7IOG2LAP', 0.756, 250), ('A2WPHVMLLEV5ZB', 0.7634730538922155, 334), ('AAX9LTAOIBECD', 0.7777777777777778, 18), ('AYTH0E5PUXWX8', 0.7824074074074074, 864), ('ARW1TCHCLEK1W', 0.7850287907869482, 1042), ('A3124SRR191UIL', 0.7853658536585366, 205), ('AR9AU5FY1S3RO', 0.7868686868686868, 990), ('A33B85TN97HQ33', 0.7938144329896907, 194), ('A1DP551UV06FN6', 0.7948717948717948, 39), ('AGRYG65WJ1CKJ', 0.8159203980099502, 201), ('A2GM5BW75YCKKW', 0.8165266106442577, 714), ('AXY0D2AMLKE2A', 0.8235294117647058, 17), ('AD1ILDUXZHASF', 0.8239700374531835, 267), ('A1M5BJTQIXCM33', 0.8306451612903226, 124), ('AC95JAUAM2L2Z', 0.8571428571428571, 35), ('A2R25RH05K0B68', 0.8680555555555556, 144), ('A1R0689JPSQ3OF', 0.9032258064516129, 31), ('A16184N1RO5OJV', 0.907563025210084, 119), ('A3HYCA7N5F6DL9', 0.9104477611940298, 67), ('AJQGWGESKQT4Y', 0.9111111111111111, 45), ('A2LU259QPV1I4V', 0.9505392339159539, 2689), ('A2HM35CWB7IIFM', 0.958904109589041, 73), ('AOOF0H0EIEFFQ', 0.95929203539823, 565), ('A1MJVTR0PCKBWW', 0.9622448979591837, 980), ('A19X8IA9EKC3XH', 0.9953379953379954, 429)]\n"
     ]
    }
   ],
   "source": [
    "print(error_rate)"
   ]
  },
  {
   "cell_type": "code",
   "execution_count": null,
   "metadata": {},
   "outputs": [],
   "source": []
  }
 ],
 "metadata": {
  "kernelspec": {
   "display_name": "Python 3.9.12 ('happywhale')",
   "language": "python",
   "name": "python3"
  },
  "language_info": {
   "codemirror_mode": {
    "name": "ipython",
    "version": 3
   },
   "file_extension": ".py",
   "mimetype": "text/x-python",
   "name": "python",
   "nbconvert_exporter": "python",
   "pygments_lexer": "ipython3",
   "version": "3.9.12"
  },
  "orig_nbformat": 4,
  "vscode": {
   "interpreter": {
    "hash": "fb5ca7d7c92aff9d7ce7c6aaa6e6a85ea706c1d397d54c354600ab6b333c4952"
   }
  }
 },
 "nbformat": 4,
 "nbformat_minor": 2
}
