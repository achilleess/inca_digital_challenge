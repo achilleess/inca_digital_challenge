{
 "cells": [
  {
   "cell_type": "code",
   "execution_count": 22,
   "metadata": {},
   "outputs": [
    {
     "name": "stderr",
     "output_type": "stream",
     "text": [
      "[nltk_data] Downloading package stopwords to /home/nikita/nltk_data...\n",
      "[nltk_data]   Package stopwords is already up-to-date!\n",
      "[nltk_data] Downloading package punkt to /home/nikita/nltk_data...\n",
      "[nltk_data]   Package punkt is already up-to-date!\n",
      "[nltk_data] Downloading package averaged_perceptron_tagger to\n",
      "[nltk_data]     /home/nikita/nltk_data...\n",
      "[nltk_data]   Package averaged_perceptron_tagger is already up-to-\n",
      "[nltk_data]       date!\n",
      "[nltk_data] Downloading package wordnet to /home/nikita/nltk_data...\n",
      "[nltk_data]   Package wordnet is already up-to-date!\n"
     ]
    }
   ],
   "source": [
    "import re\n",
    "import string\n",
    "from collections import Counter\n",
    "\n",
    "import pandas as pd\n",
    "import matplotlib.pyplot as plt\n",
    "import nltk\n",
    "from nltk.corpus import stopwords, wordnet\n",
    "from nltk.stem import WordNetLemmatizer\n",
    "from nltk.tokenize import word_tokenize\n",
    "from nltk.probability import FreqDist\n",
    "from matplotlib.ticker import MaxNLocator\n",
    "import matplotlib.gridspec as gridspec\n",
    "import matplotlib.patches as mpatches\n",
    "import seaborn as sns\n",
    "from sklearn.feature_extraction.text import CountVectorizer, TfidfVectorizer\n"
   ]
  },
  {
   "cell_type": "code",
   "execution_count": null,
   "metadata": {},
   "outputs": [],
   "source": [
    "nltk.download('stopwords')\n",
    "nltk.download('punkt')\n",
    "nltk.download('averaged_perceptron_tagger')\n",
    "nltk.download('wordnet')\n",
    "stop = set(stopwords.words('english'))"
   ]
  },
  {
   "cell_type": "code",
   "execution_count": 4,
   "metadata": {},
   "outputs": [],
   "source": [
    "train_df_original = pd.read_csv('../data/row_data.csv')"
   ]
  },
  {
   "cell_type": "code",
   "execution_count": 5,
   "metadata": {},
   "outputs": [
    {
     "data": {
      "text/html": [
       "<div>\n",
       "<style scoped>\n",
       "    .dataframe tbody tr th:only-of-type {\n",
       "        vertical-align: middle;\n",
       "    }\n",
       "\n",
       "    .dataframe tbody tr th {\n",
       "        vertical-align: top;\n",
       "    }\n",
       "\n",
       "    .dataframe thead th {\n",
       "        text-align: right;\n",
       "    }\n",
       "</style>\n",
       "<table border=\"1\" class=\"dataframe\">\n",
       "  <thead>\n",
       "    <tr style=\"text-align: right;\">\n",
       "      <th></th>\n",
       "      <th>Annotator ID</th>\n",
       "      <th>Text</th>\n",
       "      <th>Answer</th>\n",
       "    </tr>\n",
       "  </thead>\n",
       "  <tbody>\n",
       "    <tr>\n",
       "      <th>0</th>\n",
       "      <td>A1MG8KNVSVZ365</td>\n",
       "      <td>@cz_binance Thanks for being upfront about thi...</td>\n",
       "      <td>True</td>\n",
       "    </tr>\n",
       "    <tr>\n",
       "      <th>1</th>\n",
       "      <td>A3OCJJMRKAIJZA</td>\n",
       "      <td>@cz_binance Thanks for being upfront about thi...</td>\n",
       "      <td>True</td>\n",
       "    </tr>\n",
       "    <tr>\n",
       "      <th>2</th>\n",
       "      <td>AQIP3DSYXEXX5</td>\n",
       "      <td>@cz_binance Thanks for being upfront about thi...</td>\n",
       "      <td>True</td>\n",
       "    </tr>\n",
       "    <tr>\n",
       "      <th>3</th>\n",
       "      <td>A1MG8KNVSVZ365</td>\n",
       "      <td>@cz_binance The speed with which Binance has r...</td>\n",
       "      <td>False</td>\n",
       "    </tr>\n",
       "    <tr>\n",
       "      <th>4</th>\n",
       "      <td>A3MV3PT4TOO69P</td>\n",
       "      <td>@cz_binance The speed with which Binance has r...</td>\n",
       "      <td>True</td>\n",
       "    </tr>\n",
       "  </tbody>\n",
       "</table>\n",
       "</div>"
      ],
      "text/plain": [
       "     Annotator ID                                               Text  Answer\n",
       "0  A1MG8KNVSVZ365  @cz_binance Thanks for being upfront about thi...    True\n",
       "1  A3OCJJMRKAIJZA  @cz_binance Thanks for being upfront about thi...    True\n",
       "2   AQIP3DSYXEXX5  @cz_binance Thanks for being upfront about thi...    True\n",
       "3  A1MG8KNVSVZ365  @cz_binance The speed with which Binance has r...   False\n",
       "4  A3MV3PT4TOO69P  @cz_binance The speed with which Binance has r...    True"
      ]
     },
     "execution_count": 5,
     "metadata": {},
     "output_type": "execute_result"
    }
   ],
   "source": [
    "train_df_original.head()"
   ]
  },
  {
   "cell_type": "code",
   "execution_count": 6,
   "metadata": {},
   "outputs": [],
   "source": [
    "train_df = train_df_original.groupby(by='Text').apply(\n",
    "    lambda x: pd.Series({'agreement_rate': x['Answer'].sum() / x['Answer'].size})\n",
    ").reset_index()"
   ]
  },
  {
   "cell_type": "code",
   "execution_count": 7,
   "metadata": {},
   "outputs": [],
   "source": [
    "agreement_rate_dist = train_df['agreement_rate'].value_counts().sort_index()"
   ]
  },
  {
   "cell_type": "code",
   "execution_count": 8,
   "metadata": {},
   "outputs": [
    {
     "data": {
      "text/plain": [
       "<BarContainer object of 7 artists>"
      ]
     },
     "execution_count": 8,
     "metadata": {},
     "output_type": "execute_result"
    },
    {
     "data": {
      "image/png": "[encoded data removed]",
      "text/plain": [
       "<Figure size 432x288 with 1 Axes>"
      ]
     },
     "metadata": {
      "needs_background": "light"
     },
     "output_type": "display_data"
    }
   ],
   "source": [
    "plt.bar(x=agreement_rate_dist.index, height=agreement_rate_dist, width=0.1)"
   ]
  },
  {
   "cell_type": "code",
   "execution_count": 9,
   "metadata": {},
   "outputs": [],
   "source": [
    "train_df = train_df[(train_df['agreement_rate'] == 0) | (train_df['agreement_rate'] == 1)]"
   ]
  },
  {
   "cell_type": "code",
   "execution_count": 10,
   "metadata": {},
   "outputs": [],
   "source": [
    "def remove_URL(text):\n",
    "    url = re.compile(r'https?://\\S+|www\\.\\S+')\n",
    "    return url.sub(r'', text)\n",
    "\n",
    "\n",
    "def remove_emoji(text):\n",
    "    emoji_pattern = re.compile(\n",
    "        '['\n",
    "        u'\\U0001F600-\\U0001F64F'  # emoticons\n",
    "        u'\\U0001F300-\\U0001F5FF'  # symbols & pictographs\n",
    "        u'\\U0001F680-\\U0001F6FF'  # transport & map symbols\n",
    "        u'\\U0001F1E0-\\U0001F1FF'  # flags (iOS)\n",
    "        u'\\U00002702-\\U000027B0'\n",
    "        u'\\U000024C2-\\U0001F251'\n",
    "        ']+',\n",
    "        flags=re.UNICODE)\n",
    "    return emoji_pattern.sub(r'', text)\n",
    "\n",
    "\n",
    "def remove_html(text):\n",
    "    html = re.compile(r'<.*?>|&([a-z0-9]+|#[0-9]{1,6}|#x[0-9a-f]{1,6});')\n",
    "    return re.sub(html, '', text)\n",
    "\n",
    "\n",
    "def remove_punct(text):\n",
    "    table = str.maketrans('', '', string.punctuation)\n",
    "    return text.translate(table)"
   ]
  },
  {
   "cell_type": "code",
   "execution_count": 11,
   "metadata": {},
   "outputs": [],
   "source": [
    "# Applying helper functions\n",
    "\n",
    "train_df['text_clean'] = train_df['Text'].apply(lambda x: remove_URL(x))\n",
    "train_df['text_clean'] = train_df['text_clean'].apply(lambda x: remove_emoji(x))\n",
    "train_df['text_clean'] = train_df['text_clean'].apply(lambda x: remove_html(x))\n",
    "train_df['text_clean'] = train_df['text_clean'].apply(lambda x: remove_punct(x))"
   ]
  },
  {
   "cell_type": "code",
   "execution_count": 12,
   "metadata": {},
   "outputs": [
    {
     "data": {
      "text/html": [
       "<div>\n",
       "<style scoped>\n",
       "    .dataframe tbody tr th:only-of-type {\n",
       "        vertical-align: middle;\n",
       "    }\n",
       "\n",
       "    .dataframe tbody tr th {\n",
       "        vertical-align: top;\n",
       "    }\n",
       "\n",
       "    .dataframe thead th {\n",
       "        text-align: right;\n",
       "    }\n",
       "</style>\n",
       "<table border=\"1\" class=\"dataframe\">\n",
       "  <thead>\n",
       "    <tr style=\"text-align: right;\">\n",
       "      <th></th>\n",
       "      <th>Text</th>\n",
       "      <th>agreement_rate</th>\n",
       "      <th>text_clean</th>\n",
       "    </tr>\n",
       "  </thead>\n",
       "  <tbody>\n",
       "    <tr>\n",
       "      <th>1</th>\n",
       "      <td># Binance has been hacked. #��� In a world of ...</td>\n",
       "      <td>1.0</td>\n",
       "      <td>Binance has been hacked  In a world of blockc...</td>\n",
       "    </tr>\n",
       "    <tr>\n",
       "      <th>2</th>\n",
       "      <td>#2FA secret code? #Passwords? This #hack is ju...</td>\n",
       "      <td>1.0</td>\n",
       "      <td>2FA secret code Passwords This hack is just an...</td>\n",
       "    </tr>\n",
       "    <tr>\n",
       "      <th>3</th>\n",
       "      <td>#ALTSEASON STARTS WHEN MARGIN TRADING @ BINANC...</td>\n",
       "      <td>0.0</td>\n",
       "      <td>ALTSEASON STARTS WHEN MARGIN TRADING  BINANCE ...</td>\n",
       "    </tr>\n",
       "    <tr>\n",
       "      <th>4</th>\n",
       "      <td>#AMIS on #Etherdelta IBM y AMIS le apuestan al...</td>\n",
       "      <td>0.0</td>\n",
       "      <td>AMIS on Etherdelta IBM y AMIS le apuestan al b...</td>\n",
       "    </tr>\n",
       "    <tr>\n",
       "      <th>5</th>\n",
       "      <td>#AtomicWallet&lt;span class='emoji-bytes' data-em...</td>\n",
       "      <td>0.0</td>\n",
       "      <td>AtomicWallet has implemented the best solution...</td>\n",
       "    </tr>\n",
       "  </tbody>\n",
       "</table>\n",
       "</div>"
      ],
      "text/plain": [
       "                                                Text  agreement_rate  \\\n",
       "1  # Binance has been hacked. #��� In a world of ...             1.0   \n",
       "2  #2FA secret code? #Passwords? This #hack is ju...             1.0   \n",
       "3  #ALTSEASON STARTS WHEN MARGIN TRADING @ BINANC...             0.0   \n",
       "4  #AMIS on #Etherdelta IBM y AMIS le apuestan al...             0.0   \n",
       "5  #AtomicWallet<span class='emoji-bytes' data-em...             0.0   \n",
       "\n",
       "                                          text_clean  \n",
       "1   Binance has been hacked  In a world of blockc...  \n",
       "2  2FA secret code Passwords This hack is just an...  \n",
       "3  ALTSEASON STARTS WHEN MARGIN TRADING  BINANCE ...  \n",
       "4  AMIS on Etherdelta IBM y AMIS le apuestan al b...  \n",
       "5  AtomicWallet has implemented the best solution...  "
      ]
     },
     "execution_count": 12,
     "metadata": {},
     "output_type": "execute_result"
    }
   ],
   "source": [
    "train_df.head()"
   ]
  },
  {
   "cell_type": "code",
   "execution_count": 13,
   "metadata": {},
   "outputs": [
    {
     "data": {
      "text/html": [
       "<div>\n",
       "<style scoped>\n",
       "    .dataframe tbody tr th:only-of-type {\n",
       "        vertical-align: middle;\n",
       "    }\n",
       "\n",
       "    .dataframe tbody tr th {\n",
       "        vertical-align: top;\n",
       "    }\n",
       "\n",
       "    .dataframe thead th {\n",
       "        text-align: right;\n",
       "    }\n",
       "</style>\n",
       "<table border=\"1\" class=\"dataframe\">\n",
       "  <thead>\n",
       "    <tr style=\"text-align: right;\">\n",
       "      <th></th>\n",
       "      <th>Text</th>\n",
       "      <th>agreement_rate</th>\n",
       "      <th>text_clean</th>\n",
       "      <th>tokenized</th>\n",
       "    </tr>\n",
       "  </thead>\n",
       "  <tbody>\n",
       "    <tr>\n",
       "      <th>1</th>\n",
       "      <td># Binance has been hacked. #��� In a world of ...</td>\n",
       "      <td>1.0</td>\n",
       "      <td>Binance has been hacked  In a world of blockc...</td>\n",
       "      <td>[Binance, has, been, hacked, In, a, world, of,...</td>\n",
       "    </tr>\n",
       "    <tr>\n",
       "      <th>2</th>\n",
       "      <td>#2FA secret code? #Passwords? This #hack is ju...</td>\n",
       "      <td>1.0</td>\n",
       "      <td>2FA secret code Passwords This hack is just an...</td>\n",
       "      <td>[2FA, secret, code, Passwords, This, hack, is,...</td>\n",
       "    </tr>\n",
       "    <tr>\n",
       "      <th>3</th>\n",
       "      <td>#ALTSEASON STARTS WHEN MARGIN TRADING @ BINANC...</td>\n",
       "      <td>0.0</td>\n",
       "      <td>ALTSEASON STARTS WHEN MARGIN TRADING  BINANCE ...</td>\n",
       "      <td>[ALTSEASON, STARTS, WHEN, MARGIN, TRADING, BIN...</td>\n",
       "    </tr>\n",
       "    <tr>\n",
       "      <th>4</th>\n",
       "      <td>#AMIS on #Etherdelta IBM y AMIS le apuestan al...</td>\n",
       "      <td>0.0</td>\n",
       "      <td>AMIS on Etherdelta IBM y AMIS le apuestan al b...</td>\n",
       "      <td>[AMIS, on, Etherdelta, IBM, y, AMIS, le, apues...</td>\n",
       "    </tr>\n",
       "    <tr>\n",
       "      <th>5</th>\n",
       "      <td>#AtomicWallet&lt;span class='emoji-bytes' data-em...</td>\n",
       "      <td>0.0</td>\n",
       "      <td>AtomicWallet has implemented the best solution...</td>\n",
       "      <td>[AtomicWallet, has, implemented, the, best, so...</td>\n",
       "    </tr>\n",
       "  </tbody>\n",
       "</table>\n",
       "</div>"
      ],
      "text/plain": [
       "                                                Text  agreement_rate  \\\n",
       "1  # Binance has been hacked. #��� In a world of ...             1.0   \n",
       "2  #2FA secret code? #Passwords? This #hack is ju...             1.0   \n",
       "3  #ALTSEASON STARTS WHEN MARGIN TRADING @ BINANC...             0.0   \n",
       "4  #AMIS on #Etherdelta IBM y AMIS le apuestan al...             0.0   \n",
       "5  #AtomicWallet<span class='emoji-bytes' data-em...             0.0   \n",
       "\n",
       "                                          text_clean  \\\n",
       "1   Binance has been hacked  In a world of blockc...   \n",
       "2  2FA secret code Passwords This hack is just an...   \n",
       "3  ALTSEASON STARTS WHEN MARGIN TRADING  BINANCE ...   \n",
       "4  AMIS on Etherdelta IBM y AMIS le apuestan al b...   \n",
       "5  AtomicWallet has implemented the best solution...   \n",
       "\n",
       "                                           tokenized  \n",
       "1  [Binance, has, been, hacked, In, a, world, of,...  \n",
       "2  [2FA, secret, code, Passwords, This, hack, is,...  \n",
       "3  [ALTSEASON, STARTS, WHEN, MARGIN, TRADING, BIN...  \n",
       "4  [AMIS, on, Etherdelta, IBM, y, AMIS, le, apues...  \n",
       "5  [AtomicWallet, has, implemented, the, best, so...  "
      ]
     },
     "execution_count": 13,
     "metadata": {},
     "output_type": "execute_result"
    }
   ],
   "source": [
    "# Tokenizing the tweet base texts.\n",
    "\n",
    "train_df['tokenized'] = train_df['text_clean'].apply(word_tokenize)\n",
    "\n",
    "train_df.head()"
   ]
  },
  {
   "cell_type": "code",
   "execution_count": 14,
   "metadata": {},
   "outputs": [
    {
     "data": {
      "text/html": [
       "<div>\n",
       "<style scoped>\n",
       "    .dataframe tbody tr th:only-of-type {\n",
       "        vertical-align: middle;\n",
       "    }\n",
       "\n",
       "    .dataframe tbody tr th {\n",
       "        vertical-align: top;\n",
       "    }\n",
       "\n",
       "    .dataframe thead th {\n",
       "        text-align: right;\n",
       "    }\n",
       "</style>\n",
       "<table border=\"1\" class=\"dataframe\">\n",
       "  <thead>\n",
       "    <tr style=\"text-align: right;\">\n",
       "      <th></th>\n",
       "      <th>Text</th>\n",
       "      <th>agreement_rate</th>\n",
       "      <th>text_clean</th>\n",
       "      <th>tokenized</th>\n",
       "      <th>lower</th>\n",
       "    </tr>\n",
       "  </thead>\n",
       "  <tbody>\n",
       "    <tr>\n",
       "      <th>1</th>\n",
       "      <td># Binance has been hacked. #��� In a world of ...</td>\n",
       "      <td>1.0</td>\n",
       "      <td>Binance has been hacked  In a world of blockc...</td>\n",
       "      <td>[Binance, has, been, hacked, In, a, world, of,...</td>\n",
       "      <td>[binance, has, been, hacked, in, a, world, of,...</td>\n",
       "    </tr>\n",
       "    <tr>\n",
       "      <th>2</th>\n",
       "      <td>#2FA secret code? #Passwords? This #hack is ju...</td>\n",
       "      <td>1.0</td>\n",
       "      <td>2FA secret code Passwords This hack is just an...</td>\n",
       "      <td>[2FA, secret, code, Passwords, This, hack, is,...</td>\n",
       "      <td>[2fa, secret, code, passwords, this, hack, is,...</td>\n",
       "    </tr>\n",
       "    <tr>\n",
       "      <th>3</th>\n",
       "      <td>#ALTSEASON STARTS WHEN MARGIN TRADING @ BINANC...</td>\n",
       "      <td>0.0</td>\n",
       "      <td>ALTSEASON STARTS WHEN MARGIN TRADING  BINANCE ...</td>\n",
       "      <td>[ALTSEASON, STARTS, WHEN, MARGIN, TRADING, BIN...</td>\n",
       "      <td>[altseason, starts, when, margin, trading, bin...</td>\n",
       "    </tr>\n",
       "    <tr>\n",
       "      <th>4</th>\n",
       "      <td>#AMIS on #Etherdelta IBM y AMIS le apuestan al...</td>\n",
       "      <td>0.0</td>\n",
       "      <td>AMIS on Etherdelta IBM y AMIS le apuestan al b...</td>\n",
       "      <td>[AMIS, on, Etherdelta, IBM, y, AMIS, le, apues...</td>\n",
       "      <td>[amis, on, etherdelta, ibm, y, amis, le, apues...</td>\n",
       "    </tr>\n",
       "    <tr>\n",
       "      <th>5</th>\n",
       "      <td>#AtomicWallet&lt;span class='emoji-bytes' data-em...</td>\n",
       "      <td>0.0</td>\n",
       "      <td>AtomicWallet has implemented the best solution...</td>\n",
       "      <td>[AtomicWallet, has, implemented, the, best, so...</td>\n",
       "      <td>[atomicwallet, has, implemented, the, best, so...</td>\n",
       "    </tr>\n",
       "  </tbody>\n",
       "</table>\n",
       "</div>"
      ],
      "text/plain": [
       "                                                Text  agreement_rate  \\\n",
       "1  # Binance has been hacked. #��� In a world of ...             1.0   \n",
       "2  #2FA secret code? #Passwords? This #hack is ju...             1.0   \n",
       "3  #ALTSEASON STARTS WHEN MARGIN TRADING @ BINANC...             0.0   \n",
       "4  #AMIS on #Etherdelta IBM y AMIS le apuestan al...             0.0   \n",
       "5  #AtomicWallet<span class='emoji-bytes' data-em...             0.0   \n",
       "\n",
       "                                          text_clean  \\\n",
       "1   Binance has been hacked  In a world of blockc...   \n",
       "2  2FA secret code Passwords This hack is just an...   \n",
       "3  ALTSEASON STARTS WHEN MARGIN TRADING  BINANCE ...   \n",
       "4  AMIS on Etherdelta IBM y AMIS le apuestan al b...   \n",
       "5  AtomicWallet has implemented the best solution...   \n",
       "\n",
       "                                           tokenized  \\\n",
       "1  [Binance, has, been, hacked, In, a, world, of,...   \n",
       "2  [2FA, secret, code, Passwords, This, hack, is,...   \n",
       "3  [ALTSEASON, STARTS, WHEN, MARGIN, TRADING, BIN...   \n",
       "4  [AMIS, on, Etherdelta, IBM, y, AMIS, le, apues...   \n",
       "5  [AtomicWallet, has, implemented, the, best, so...   \n",
       "\n",
       "                                               lower  \n",
       "1  [binance, has, been, hacked, in, a, world, of,...  \n",
       "2  [2fa, secret, code, passwords, this, hack, is,...  \n",
       "3  [altseason, starts, when, margin, trading, bin...  \n",
       "4  [amis, on, etherdelta, ibm, y, amis, le, apues...  \n",
       "5  [atomicwallet, has, implemented, the, best, so...  "
      ]
     },
     "execution_count": 14,
     "metadata": {},
     "output_type": "execute_result"
    }
   ],
   "source": [
    "# Lower casing clean text.\n",
    "\n",
    "train_df['lower'] = train_df['tokenized'].apply(\n",
    "    lambda x: [word.lower() for word in x])\n",
    "\n",
    "train_df.head()"
   ]
  },
  {
   "cell_type": "code",
   "execution_count": 15,
   "metadata": {},
   "outputs": [
    {
     "data": {
      "text/html": [
       "<div>\n",
       "<style scoped>\n",
       "    .dataframe tbody tr th:only-of-type {\n",
       "        vertical-align: middle;\n",
       "    }\n",
       "\n",
       "    .dataframe tbody tr th {\n",
       "        vertical-align: top;\n",
       "    }\n",
       "\n",
       "    .dataframe thead th {\n",
       "        text-align: right;\n",
       "    }\n",
       "</style>\n",
       "<table border=\"1\" class=\"dataframe\">\n",
       "  <thead>\n",
       "    <tr style=\"text-align: right;\">\n",
       "      <th></th>\n",
       "      <th>Text</th>\n",
       "      <th>agreement_rate</th>\n",
       "      <th>text_clean</th>\n",
       "      <th>tokenized</th>\n",
       "      <th>lower</th>\n",
       "      <th>stopwords_removed</th>\n",
       "    </tr>\n",
       "  </thead>\n",
       "  <tbody>\n",
       "    <tr>\n",
       "      <th>1</th>\n",
       "      <td># Binance has been hacked. #��� In a world of ...</td>\n",
       "      <td>1.0</td>\n",
       "      <td>Binance has been hacked  In a world of blockc...</td>\n",
       "      <td>[Binance, has, been, hacked, In, a, world, of,...</td>\n",
       "      <td>[binance, has, been, hacked, in, a, world, of,...</td>\n",
       "      <td>[binance, hacked, world, blockchain, transpare...</td>\n",
       "    </tr>\n",
       "    <tr>\n",
       "      <th>2</th>\n",
       "      <td>#2FA secret code? #Passwords? This #hack is ju...</td>\n",
       "      <td>1.0</td>\n",
       "      <td>2FA secret code Passwords This hack is just an...</td>\n",
       "      <td>[2FA, secret, code, Passwords, This, hack, is,...</td>\n",
       "      <td>[2fa, secret, code, passwords, this, hack, is,...</td>\n",
       "      <td>[2fa, secret, code, passwords, hack, another, ...</td>\n",
       "    </tr>\n",
       "    <tr>\n",
       "      <th>3</th>\n",
       "      <td>#ALTSEASON STARTS WHEN MARGIN TRADING @ BINANC...</td>\n",
       "      <td>0.0</td>\n",
       "      <td>ALTSEASON STARTS WHEN MARGIN TRADING  BINANCE ...</td>\n",
       "      <td>[ALTSEASON, STARTS, WHEN, MARGIN, TRADING, BIN...</td>\n",
       "      <td>[altseason, starts, when, margin, trading, bin...</td>\n",
       "      <td>[altseason, starts, margin, trading, binance, ...</td>\n",
       "    </tr>\n",
       "    <tr>\n",
       "      <th>4</th>\n",
       "      <td>#AMIS on #Etherdelta IBM y AMIS le apuestan al...</td>\n",
       "      <td>0.0</td>\n",
       "      <td>AMIS on Etherdelta IBM y AMIS le apuestan al b...</td>\n",
       "      <td>[AMIS, on, Etherdelta, IBM, y, AMIS, le, apues...</td>\n",
       "      <td>[amis, on, etherdelta, ibm, y, amis, le, apues...</td>\n",
       "      <td>[amis, etherdelta, ibm, amis, le, apuestan, al...</td>\n",
       "    </tr>\n",
       "    <tr>\n",
       "      <th>5</th>\n",
       "      <td>#AtomicWallet&lt;span class='emoji-bytes' data-em...</td>\n",
       "      <td>0.0</td>\n",
       "      <td>AtomicWallet has implemented the best solution...</td>\n",
       "      <td>[AtomicWallet, has, implemented, the, best, so...</td>\n",
       "      <td>[atomicwallet, has, implemented, the, best, so...</td>\n",
       "      <td>[atomicwallet, implemented, best, solution, ma...</td>\n",
       "    </tr>\n",
       "  </tbody>\n",
       "</table>\n",
       "</div>"
      ],
      "text/plain": [
       "                                                Text  agreement_rate  \\\n",
       "1  # Binance has been hacked. #��� In a world of ...             1.0   \n",
       "2  #2FA secret code? #Passwords? This #hack is ju...             1.0   \n",
       "3  #ALTSEASON STARTS WHEN MARGIN TRADING @ BINANC...             0.0   \n",
       "4  #AMIS on #Etherdelta IBM y AMIS le apuestan al...             0.0   \n",
       "5  #AtomicWallet<span class='emoji-bytes' data-em...             0.0   \n",
       "\n",
       "                                          text_clean  \\\n",
       "1   Binance has been hacked  In a world of blockc...   \n",
       "2  2FA secret code Passwords This hack is just an...   \n",
       "3  ALTSEASON STARTS WHEN MARGIN TRADING  BINANCE ...   \n",
       "4  AMIS on Etherdelta IBM y AMIS le apuestan al b...   \n",
       "5  AtomicWallet has implemented the best solution...   \n",
       "\n",
       "                                           tokenized  \\\n",
       "1  [Binance, has, been, hacked, In, a, world, of,...   \n",
       "2  [2FA, secret, code, Passwords, This, hack, is,...   \n",
       "3  [ALTSEASON, STARTS, WHEN, MARGIN, TRADING, BIN...   \n",
       "4  [AMIS, on, Etherdelta, IBM, y, AMIS, le, apues...   \n",
       "5  [AtomicWallet, has, implemented, the, best, so...   \n",
       "\n",
       "                                               lower  \\\n",
       "1  [binance, has, been, hacked, in, a, world, of,...   \n",
       "2  [2fa, secret, code, passwords, this, hack, is,...   \n",
       "3  [altseason, starts, when, margin, trading, bin...   \n",
       "4  [amis, on, etherdelta, ibm, y, amis, le, apues...   \n",
       "5  [atomicwallet, has, implemented, the, best, so...   \n",
       "\n",
       "                                   stopwords_removed  \n",
       "1  [binance, hacked, world, blockchain, transpare...  \n",
       "2  [2fa, secret, code, passwords, hack, another, ...  \n",
       "3  [altseason, starts, margin, trading, binance, ...  \n",
       "4  [amis, etherdelta, ibm, amis, le, apuestan, al...  \n",
       "5  [atomicwallet, implemented, best, solution, ma...  "
      ]
     },
     "execution_count": 15,
     "metadata": {},
     "output_type": "execute_result"
    }
   ],
   "source": [
    "# Removing stopwords.\n",
    "\n",
    "train_df['stopwords_removed'] = train_df['lower'].apply(\n",
    "    lambda x: [word for word in x if word not in stop])\n",
    "\n",
    "train_df.head()"
   ]
  },
  {
   "cell_type": "code",
   "execution_count": 18,
   "metadata": {},
   "outputs": [],
   "source": [
    "train_df['agreement_rate'] = train_df['agreement_rate'].astype(int)"
   ]
  },
  {
   "cell_type": "code",
   "execution_count": 24,
   "metadata": {},
   "outputs": [
    {
     "data": {
      "image/png": "[encoded data removed]",
      "text/plain": [
       "<Figure size 576x576 with 1 Axes>"
      ]
     },
     "metadata": {},
     "output_type": "display_data"
    }
   ],
   "source": [
    "# Displaying target distribution.\n",
    "\n",
    "plt.figure(figsize=(8, 8))\n",
    "\n",
    "plt.pie(\n",
    "    train_df['agreement_rate'].value_counts(),\n",
    "    labels=['Not hack', 'hack'],\n",
    "    autopct='%1.2f%%',\n",
    "    shadow=True,\n",
    "    explode=(0.05, 0),\n",
    "    startangle=60\n",
    ")\n",
    "plt.suptitle('Distribution of the Tweets', fontsize=24)\n",
    "plt.show()"
   ]
  },
  {
   "cell_type": "code",
   "execution_count": 25,
   "metadata": {},
   "outputs": [],
   "source": [
    "# Creating a new feature for the visualization.\n",
    "train_df['Character Count'] = train_df['text_clean'].apply(lambda x: len(str(x)))\n",
    "\n",
    "\n",
    "def plot_dist3(df, feature, title):\n",
    "    # Creating a customized chart. and giving in figsize and everything.\n",
    "    fig = plt.figure(constrained_layout=True, figsize=(18, 8))\n",
    "\n",
    "    # Creating a grid of 3 cols and 3 rows.\n",
    "    grid = gridspec.GridSpec(ncols=3, nrows=3, figure=fig)\n",
    "\n",
    "    # Customizing the histogram grid.\n",
    "    ax1 = fig.add_subplot(grid[0, :2])\n",
    "\n",
    "    # Set the title.\n",
    "    ax1.set_title('Histogram')\n",
    "\n",
    "    # plot the histogram.\n",
    "    sns.distplot(df.loc[:, feature],\n",
    "                 hist=True,\n",
    "                 kde=True,\n",
    "                 ax=ax1,\n",
    "                 color='#e74c3c')\n",
    "    ax1.set(ylabel='Frequency')\n",
    "    ax1.xaxis.set_major_locator(MaxNLocator(nbins=20))\n",
    "\n",
    "    # Customizing the ecdf_plot.\n",
    "    ax2 = fig.add_subplot(grid[1, :2])\n",
    "\n",
    "    # Set the title.\n",
    "    ax2.set_title('Empirical CDF')\n",
    "\n",
    "    # Plotting the ecdf_Plot.\n",
    "    sns.distplot(df.loc[:, feature],\n",
    "                 ax=ax2,\n",
    "                 kde_kws={'cumulative': True},\n",
    "                 hist_kws={'cumulative': True},\n",
    "                 color='#e74c3c')\n",
    "    ax2.xaxis.set_major_locator(MaxNLocator(nbins=20))\n",
    "    ax2.set(ylabel='Cumulative Probability')\n",
    "\n",
    "    # Customizing the Box Plot.\n",
    "    ax3 = fig.add_subplot(grid[:, 2])\n",
    "\n",
    "    # Set title.\n",
    "    ax3.set_title('Box Plot')\n",
    "    \n",
    "    # Plotting the box plot.\n",
    "    sns.boxplot(x=feature, data=df, orient='v', ax=ax3, color='#e74c3c')\n",
    "    ax3.yaxis.set_major_locator(MaxNLocator(nbins=25))\n",
    "\n",
    "    plt.suptitle(f'{title}', fontsize=24)"
   ]
  },
  {
   "cell_type": "code",
   "execution_count": 26,
   "metadata": {},
   "outputs": [
    {
     "name": "stderr",
     "output_type": "stream",
     "text": [
      "/tmp/ipykernel_304639/400665430.py:19: UserWarning: \n",
      "\n",
      "`distplot` is a deprecated function and will be removed in seaborn v0.14.0.\n",
      "\n",
      "Please adapt your code to use either `displot` (a figure-level function with\n",
      "similar flexibility) or `histplot` (an axes-level function for histograms).\n",
      "\n",
      "For a guide to updating your code to use the new functions, please see\n",
      "https://gist.github.com/mwaskom/de44147ed2974457ad6372750bbe5751\n",
      "\n",
      "  sns.distplot(df.loc[:, feature],\n",
      "/tmp/ipykernel_304639/400665430.py:34: UserWarning: \n",
      "\n",
      "`distplot` is a deprecated function and will be removed in seaborn v0.14.0.\n",
      "\n",
      "Please adapt your code to use either `displot` (a figure-level function with\n",
      "similar flexibility) or `histplot` (an axes-level function for histograms).\n",
      "\n",
      "For a guide to updating your code to use the new functions, please see\n",
      "https://gist.github.com/mwaskom/de44147ed2974457ad6372750bbe5751\n",
      "\n",
      "  sns.distplot(df.loc[:, feature],\n",
      "/home/nikita/anaconda3/envs/happywhale/lib/python3.9/site-packages/seaborn/_oldcore.py:1599: UserWarning: Vertical orientation ignored with only `x` specified.\n",
      "  warnings.warn(single_var_warning.format(\"Vertical\", \"x\"))\n"
     ]
    },
    {
     "data": {
      "image/png": "[encoded data removed]",
      "text/plain": [
       "<Figure size 1296x576 with 3 Axes>"
      ]
     },
     "metadata": {
      "needs_background": "light"
     },
     "output_type": "display_data"
    }
   ],
   "source": [
    "plot_dist3(train_df[train_df['agreement_rate'] == 0], 'Character Count',\n",
    "           'Characters Per \"Non Hacker\" Tweet')"
   ]
  },
  {
   "cell_type": "code",
   "execution_count": 27,
   "metadata": {},
   "outputs": [
    {
     "name": "stderr",
     "output_type": "stream",
     "text": [
      "/tmp/ipykernel_304639/400665430.py:19: UserWarning: \n",
      "\n",
      "`distplot` is a deprecated function and will be removed in seaborn v0.14.0.\n",
      "\n",
      "Please adapt your code to use either `displot` (a figure-level function with\n",
      "similar flexibility) or `histplot` (an axes-level function for histograms).\n",
      "\n",
      "For a guide to updating your code to use the new functions, please see\n",
      "https://gist.github.com/mwaskom/de44147ed2974457ad6372750bbe5751\n",
      "\n",
      "  sns.distplot(df.loc[:, feature],\n",
      "/tmp/ipykernel_304639/400665430.py:34: UserWarning: \n",
      "\n",
      "`distplot` is a deprecated function and will be removed in seaborn v0.14.0.\n",
      "\n",
      "Please adapt your code to use either `displot` (a figure-level function with\n",
      "similar flexibility) or `histplot` (an axes-level function for histograms).\n",
      "\n",
      "For a guide to updating your code to use the new functions, please see\n",
      "https://gist.github.com/mwaskom/de44147ed2974457ad6372750bbe5751\n",
      "\n",
      "  sns.distplot(df.loc[:, feature],\n",
      "/home/nikita/anaconda3/envs/happywhale/lib/python3.9/site-packages/seaborn/_oldcore.py:1599: UserWarning: Vertical orientation ignored with only `x` specified.\n",
      "  warnings.warn(single_var_warning.format(\"Vertical\", \"x\"))\n"
     ]
    },
    {
     "data": {
      "image/png": "[encoded data removed]",
      "text/plain": [
       "<Figure size 1296x576 with 3 Axes>"
      ]
     },
     "metadata": {
      "needs_background": "light"
     },
     "output_type": "display_data"
    }
   ],
   "source": [
    "plot_dist3(train_df[train_df['agreement_rate'] == 1], 'Character Count',\n",
    "           'Characters Per \"Disaster\" Tweet')"
   ]
  },
  {
   "cell_type": "code",
   "execution_count": 28,
   "metadata": {},
   "outputs": [],
   "source": [
    "def plot_word_number_histogram(textno, textye):\n",
    "    \n",
    "    \"\"\"A function for comparing word counts\"\"\"\n",
    "\n",
    "    fig, axes = plt.subplots(ncols=2, nrows=1, figsize=(18, 6), sharey=True)\n",
    "    sns.distplot(textno.str.split().map(lambda x: len(x)), ax=axes[0], color='#e74c3c')\n",
    "    sns.distplot(textye.str.split().map(lambda x: len(x)), ax=axes[1], color='#e74c3c')\n",
    "    \n",
    "    axes[0].set_xlabel('Word Count')\n",
    "    axes[0].set_ylabel('Frequency')\n",
    "    axes[0].set_title('Non Disaster Tweets')\n",
    "    axes[1].set_xlabel('Word Count')\n",
    "    axes[1].set_title('Disaster Tweets')\n",
    "    \n",
    "    fig.suptitle('Words Per Tweet', fontsize=24, va='baseline')\n",
    "    \n",
    "    fig.tight_layout()"
   ]
  },
  {
   "cell_type": "code",
   "execution_count": 29,
   "metadata": {},
   "outputs": [
    {
     "name": "stderr",
     "output_type": "stream",
     "text": [
      "/tmp/ipykernel_304639/1585757681.py:6: UserWarning: \n",
      "\n",
      "`distplot` is a deprecated function and will be removed in seaborn v0.14.0.\n",
      "\n",
      "Please adapt your code to use either `displot` (a figure-level function with\n",
      "similar flexibility) or `histplot` (an axes-level function for histograms).\n",
      "\n",
      "For a guide to updating your code to use the new functions, please see\n",
      "https://gist.github.com/mwaskom/de44147ed2974457ad6372750bbe5751\n",
      "\n",
      "  sns.distplot(textno.str.split().map(lambda x: len(x)), ax=axes[0], color='#e74c3c')\n",
      "/tmp/ipykernel_304639/1585757681.py:7: UserWarning: \n",
      "\n",
      "`distplot` is a deprecated function and will be removed in seaborn v0.14.0.\n",
      "\n",
      "Please adapt your code to use either `displot` (a figure-level function with\n",
      "similar flexibility) or `histplot` (an axes-level function for histograms).\n",
      "\n",
      "For a guide to updating your code to use the new functions, please see\n",
      "https://gist.github.com/mwaskom/de44147ed2974457ad6372750bbe5751\n",
      "\n",
      "  sns.distplot(textye.str.split().map(lambda x: len(x)), ax=axes[1], color='#e74c3c')\n"
     ]
    },
    {
     "data": {
      "image/png": "[encoded data removed]",
      "text/plain": [
       "<Figure size 1296x432 with 2 Axes>"
      ]
     },
     "metadata": {
      "needs_background": "light"
     },
     "output_type": "display_data"
    }
   ],
   "source": [
    "plot_word_number_histogram(train_df[train_df['agreement_rate'] == 0]['Text'],\n",
    "                           train_df[train_df['agreement_rate'] == 1]['Text'])"
   ]
  },
  {
   "cell_type": "code",
   "execution_count": 30,
   "metadata": {},
   "outputs": [],
   "source": [
    "lis = [\n",
    "    train_df[train_df['agreement_rate'] == 0]['stopwords_removed'],\n",
    "    train_df[train_df['agreement_rate'] == 1]['stopwords_removed']\n",
    "]"
   ]
  },
  {
   "cell_type": "code",
   "execution_count": 31,
   "metadata": {},
   "outputs": [
    {
     "name": "stdout",
     "output_type": "stream",
     "text": [
      "No stopwords left in texts.\n"
     ]
    }
   ],
   "source": [
    "fig, axes = plt.subplots(1, 2, figsize=(18, 8))\n",
    "axes = axes.flatten()\n",
    "\n",
    "for i, j in zip(lis, axes):\n",
    "    try:\n",
    "        new = i.str.split()\n",
    "        new = new.values.tolist()\n",
    "        corpus = [word.lower() for i in new for word in i]\n",
    "        dic = defaultdict(int)\n",
    "        for word in corpus:\n",
    "            if word in stop:\n",
    "                dic[word] += 1\n",
    "\n",
    "        top = sorted(dic.items(), key=lambda x: x[1], reverse=True)[:15]\n",
    "        x, y = zip(*top)\n",
    "        df = pd.DataFrame([x, y]).T\n",
    "        df = df.rename(columns={0: 'Stopword', 1: 'Count'})\n",
    "        sns.barplot(x='Count', y='Stopword', data=df, palette='plasma', ax=j)\n",
    "        plt.tight_layout()\n",
    "    except:\n",
    "        plt.close()\n",
    "        print('No stopwords left in texts.')\n",
    "        break"
   ]
  },
  {
   "cell_type": "code",
   "execution_count": 33,
   "metadata": {},
   "outputs": [
    {
     "data": {
      "image/png": "[encoded data removed]",
      "text/plain": [
       "<Figure size 1296x576 with 2 Axes>"
      ]
     },
     "metadata": {
      "needs_background": "light"
     },
     "output_type": "display_data"
    }
   ],
   "source": [
    "# Displaying most common words.\n",
    "\n",
    "fig, axes = plt.subplots(1, 2, figsize=(18, 8))\n",
    "axes = axes.flatten()\n",
    "\n",
    "for new, j in zip(lis, axes):\n",
    "    new = new.values.tolist()\n",
    "    corpus = [word for i in new for word in i]\n",
    "\n",
    "    counter = Counter(corpus)\n",
    "    most = counter.most_common()\n",
    "    x, y = [], []\n",
    "    for word, count in most[:30]:\n",
    "        if (word not in stop):\n",
    "            x.append(word)\n",
    "            y.append(count)\n",
    "\n",
    "    sns.barplot(x=y, y=x, palette='plasma', ax=j)\n",
    "axes[0].set_title('Non hack tweets')\n",
    "\n",
    "axes[1].set_title('Hack Tweets')\n",
    "axes[0].set_xlabel('Count')\n",
    "axes[0].set_ylabel('Word')\n",
    "axes[1].set_xlabel('Count')\n",
    "axes[1].set_ylabel('Word')\n",
    "\n",
    "fig.suptitle('Most Common Unigrams', fontsize=24, va='baseline')\n",
    "plt.tight_layout()"
   ]
  },
  {
   "cell_type": "code",
   "execution_count": 34,
   "metadata": {},
   "outputs": [
    {
     "data": {
      "text/html": [
       "<div>\n",
       "<style scoped>\n",
       "    .dataframe tbody tr th:only-of-type {\n",
       "        vertical-align: middle;\n",
       "    }\n",
       "\n",
       "    .dataframe tbody tr th {\n",
       "        vertical-align: top;\n",
       "    }\n",
       "\n",
       "    .dataframe thead th {\n",
       "        text-align: right;\n",
       "    }\n",
       "</style>\n",
       "<table border=\"1\" class=\"dataframe\">\n",
       "  <thead>\n",
       "    <tr style=\"text-align: right;\">\n",
       "      <th></th>\n",
       "      <th>Text</th>\n",
       "      <th>agreement_rate</th>\n",
       "      <th>text_clean</th>\n",
       "      <th>tokenized</th>\n",
       "      <th>lower</th>\n",
       "      <th>stopwords_removed</th>\n",
       "      <th>pos_tags</th>\n",
       "      <th>Character Count</th>\n",
       "    </tr>\n",
       "  </thead>\n",
       "  <tbody>\n",
       "    <tr>\n",
       "      <th>1</th>\n",
       "      <td># Binance has been hacked. #��� In a world of ...</td>\n",
       "      <td>1</td>\n",
       "      <td>Binance has been hacked  In a world of blockc...</td>\n",
       "      <td>[Binance, has, been, hacked, In, a, world, of,...</td>\n",
       "      <td>[binance, has, been, hacked, in, a, world, of,...</td>\n",
       "      <td>[binance, hacked, world, blockchain, transpare...</td>\n",
       "      <td>[(binance, NN), (hacked, VBD), (world, NN), (b...</td>\n",
       "      <td>252</td>\n",
       "    </tr>\n",
       "    <tr>\n",
       "      <th>2</th>\n",
       "      <td>#2FA secret code? #Passwords? This #hack is ju...</td>\n",
       "      <td>1</td>\n",
       "      <td>2FA secret code Passwords This hack is just an...</td>\n",
       "      <td>[2FA, secret, code, Passwords, This, hack, is,...</td>\n",
       "      <td>[2fa, secret, code, passwords, this, hack, is,...</td>\n",
       "      <td>[2fa, secret, code, passwords, hack, another, ...</td>\n",
       "      <td>[(2fa, CD), (secret, JJ), (code, NN), (passwor...</td>\n",
       "      <td>206</td>\n",
       "    </tr>\n",
       "    <tr>\n",
       "      <th>3</th>\n",
       "      <td>#ALTSEASON STARTS WHEN MARGIN TRADING @ BINANC...</td>\n",
       "      <td>0</td>\n",
       "      <td>ALTSEASON STARTS WHEN MARGIN TRADING  BINANCE ...</td>\n",
       "      <td>[ALTSEASON, STARTS, WHEN, MARGIN, TRADING, BIN...</td>\n",
       "      <td>[altseason, starts, when, margin, trading, bin...</td>\n",
       "      <td>[altseason, starts, margin, trading, binance, ...</td>\n",
       "      <td>[(altseason, NN), (starts, VBZ), (margin, NN),...</td>\n",
       "      <td>94</td>\n",
       "    </tr>\n",
       "    <tr>\n",
       "      <th>4</th>\n",
       "      <td>#AMIS on #Etherdelta IBM y AMIS le apuestan al...</td>\n",
       "      <td>0</td>\n",
       "      <td>AMIS on Etherdelta IBM y AMIS le apuestan al b...</td>\n",
       "      <td>[AMIS, on, Etherdelta, IBM, y, AMIS, le, apues...</td>\n",
       "      <td>[amis, on, etherdelta, ibm, y, amis, le, apues...</td>\n",
       "      <td>[amis, etherdelta, ibm, amis, le, apuestan, al...</td>\n",
       "      <td>[(amis, NN), (etherdelta, NN), (ibm, NN), (ami...</td>\n",
       "      <td>86</td>\n",
       "    </tr>\n",
       "    <tr>\n",
       "      <th>5</th>\n",
       "      <td>#AtomicWallet&lt;span class='emoji-bytes' data-em...</td>\n",
       "      <td>0</td>\n",
       "      <td>AtomicWallet has implemented the best solution...</td>\n",
       "      <td>[AtomicWallet, has, implemented, the, best, so...</td>\n",
       "      <td>[atomicwallet, has, implemented, the, best, so...</td>\n",
       "      <td>[atomicwallet, implemented, best, solution, ma...</td>\n",
       "      <td>[(atomicwallet, NN), (implemented, VBN), (best...</td>\n",
       "      <td>156</td>\n",
       "    </tr>\n",
       "    <tr>\n",
       "      <th>...</th>\n",
       "      <td>...</td>\n",
       "      <td>...</td>\n",
       "      <td>...</td>\n",
       "      <td>...</td>\n",
       "      <td>...</td>\n",
       "      <td>...</td>\n",
       "      <td>...</td>\n",
       "      <td>...</td>\n",
       "    </tr>\n",
       "    <tr>\n",
       "      <th>12126</th>\n",
       "      <td>������ Binance Hack - 7,000 #Bitcoin stolenTod...</td>\n",
       "      <td>1</td>\n",
       "      <td>Binance Hack  7000 Bitcoin stolenToday Binanc...</td>\n",
       "      <td>[Binance, Hack, 7000, Bitcoin, stolenToday, Bi...</td>\n",
       "      <td>[binance, hack, 7000, bitcoin, stolentoday, bi...</td>\n",
       "      <td>[binance, hack, 7000, bitcoin, stolentoday, bi...</td>\n",
       "      <td>[(binance, NN), (hack, NN), (7000, CD), (bitco...</td>\n",
       "      <td>237</td>\n",
       "    </tr>\n",
       "    <tr>\n",
       "      <th>12127</th>\n",
       "      <td>������ Business as usual after the hacking inc...</td>\n",
       "      <td>1</td>\n",
       "      <td>Business as usual after the hacking incident ...</td>\n",
       "      <td>[Business, as, usual, after, the, hacking, inc...</td>\n",
       "      <td>[business, as, usual, after, the, hacking, inc...</td>\n",
       "      <td>[business, usual, hacking, incident, kucoincom...</td>\n",
       "      <td>[(business, NN), (usual, JJ), (hacking, NN), (...</td>\n",
       "      <td>230</td>\n",
       "    </tr>\n",
       "    <tr>\n",
       "      <th>12133</th>\n",
       "      <td>������Another Exchange Hacked.People Keep your...</td>\n",
       "      <td>1</td>\n",
       "      <td>Another Exchange HackedPeople Keep your Digita...</td>\n",
       "      <td>[Another, Exchange, HackedPeople, Keep, your, ...</td>\n",
       "      <td>[another, exchange, hackedpeople, keep, your, ...</td>\n",
       "      <td>[another, exchange, hackedpeople, keep, digita...</td>\n",
       "      <td>[(another, DT), (exchange, NN), (hackedpeople,...</td>\n",
       "      <td>228</td>\n",
       "    </tr>\n",
       "    <tr>\n",
       "      <th>12135</th>\n",
       "      <td>������Today's #cryptonews:- #ICE has sold its ...</td>\n",
       "      <td>1</td>\n",
       "      <td>Todays cryptonews ICE has sold its stake in Co...</td>\n",
       "      <td>[Todays, cryptonews, ICE, has, sold, its, stak...</td>\n",
       "      <td>[todays, cryptonews, ice, has, sold, its, stak...</td>\n",
       "      <td>[todays, cryptonews, ice, sold, stake, coinbas...</td>\n",
       "      <td>[(todays, NNS), (cryptonews, NNS), (ice, RB), ...</td>\n",
       "      <td>218</td>\n",
       "    </tr>\n",
       "    <tr>\n",
       "      <th>12136</th>\n",
       "      <td>��������� @binance, good morning Mr. @cz_binan...</td>\n",
       "      <td>1</td>\n",
       "      <td>binance good morning Mr czbinance Thanks a lo...</td>\n",
       "      <td>[binance, good, morning, Mr, czbinance, Thanks...</td>\n",
       "      <td>[binance, good, morning, mr, czbinance, thanks...</td>\n",
       "      <td>[binance, good, morning, mr, czbinance, thanks...</td>\n",
       "      <td>[(binance, NN), (good, JJ), (morning, NN), (mr...</td>\n",
       "      <td>232</td>\n",
       "    </tr>\n",
       "  </tbody>\n",
       "</table>\n",
       "<p>4342 rows × 8 columns</p>\n",
       "</div>"
      ],
      "text/plain": [
       "                                                    Text  agreement_rate  \\\n",
       "1      # Binance has been hacked. #��� In a world of ...               1   \n",
       "2      #2FA secret code? #Passwords? This #hack is ju...               1   \n",
       "3      #ALTSEASON STARTS WHEN MARGIN TRADING @ BINANC...               0   \n",
       "4      #AMIS on #Etherdelta IBM y AMIS le apuestan al...               0   \n",
       "5      #AtomicWallet<span class='emoji-bytes' data-em...               0   \n",
       "...                                                  ...             ...   \n",
       "12126  ������ Binance Hack - 7,000 #Bitcoin stolenTod...               1   \n",
       "12127  ������ Business as usual after the hacking inc...               1   \n",
       "12133  ������Another Exchange Hacked.People Keep your...               1   \n",
       "12135  ������Today's #cryptonews:- #ICE has sold its ...               1   \n",
       "12136  ��������� @binance, good morning Mr. @cz_binan...               1   \n",
       "\n",
       "                                              text_clean  \\\n",
       "1       Binance has been hacked  In a world of blockc...   \n",
       "2      2FA secret code Passwords This hack is just an...   \n",
       "3      ALTSEASON STARTS WHEN MARGIN TRADING  BINANCE ...   \n",
       "4      AMIS on Etherdelta IBM y AMIS le apuestan al b...   \n",
       "5      AtomicWallet has implemented the best solution...   \n",
       "...                                                  ...   \n",
       "12126   Binance Hack  7000 Bitcoin stolenToday Binanc...   \n",
       "12127   Business as usual after the hacking incident ...   \n",
       "12133  Another Exchange HackedPeople Keep your Digita...   \n",
       "12135  Todays cryptonews ICE has sold its stake in Co...   \n",
       "12136   binance good morning Mr czbinance Thanks a lo...   \n",
       "\n",
       "                                               tokenized  \\\n",
       "1      [Binance, has, been, hacked, In, a, world, of,...   \n",
       "2      [2FA, secret, code, Passwords, This, hack, is,...   \n",
       "3      [ALTSEASON, STARTS, WHEN, MARGIN, TRADING, BIN...   \n",
       "4      [AMIS, on, Etherdelta, IBM, y, AMIS, le, apues...   \n",
       "5      [AtomicWallet, has, implemented, the, best, so...   \n",
       "...                                                  ...   \n",
       "12126  [Binance, Hack, 7000, Bitcoin, stolenToday, Bi...   \n",
       "12127  [Business, as, usual, after, the, hacking, inc...   \n",
       "12133  [Another, Exchange, HackedPeople, Keep, your, ...   \n",
       "12135  [Todays, cryptonews, ICE, has, sold, its, stak...   \n",
       "12136  [binance, good, morning, Mr, czbinance, Thanks...   \n",
       "\n",
       "                                                   lower  \\\n",
       "1      [binance, has, been, hacked, in, a, world, of,...   \n",
       "2      [2fa, secret, code, passwords, this, hack, is,...   \n",
       "3      [altseason, starts, when, margin, trading, bin...   \n",
       "4      [amis, on, etherdelta, ibm, y, amis, le, apues...   \n",
       "5      [atomicwallet, has, implemented, the, best, so...   \n",
       "...                                                  ...   \n",
       "12126  [binance, hack, 7000, bitcoin, stolentoday, bi...   \n",
       "12127  [business, as, usual, after, the, hacking, inc...   \n",
       "12133  [another, exchange, hackedpeople, keep, your, ...   \n",
       "12135  [todays, cryptonews, ice, has, sold, its, stak...   \n",
       "12136  [binance, good, morning, mr, czbinance, thanks...   \n",
       "\n",
       "                                       stopwords_removed  \\\n",
       "1      [binance, hacked, world, blockchain, transpare...   \n",
       "2      [2fa, secret, code, passwords, hack, another, ...   \n",
       "3      [altseason, starts, margin, trading, binance, ...   \n",
       "4      [amis, etherdelta, ibm, amis, le, apuestan, al...   \n",
       "5      [atomicwallet, implemented, best, solution, ma...   \n",
       "...                                                  ...   \n",
       "12126  [binance, hack, 7000, bitcoin, stolentoday, bi...   \n",
       "12127  [business, usual, hacking, incident, kucoincom...   \n",
       "12133  [another, exchange, hackedpeople, keep, digita...   \n",
       "12135  [todays, cryptonews, ice, sold, stake, coinbas...   \n",
       "12136  [binance, good, morning, mr, czbinance, thanks...   \n",
       "\n",
       "                                                pos_tags  Character Count  \n",
       "1      [(binance, NN), (hacked, VBD), (world, NN), (b...              252  \n",
       "2      [(2fa, CD), (secret, JJ), (code, NN), (passwor...              206  \n",
       "3      [(altseason, NN), (starts, VBZ), (margin, NN),...               94  \n",
       "4      [(amis, NN), (etherdelta, NN), (ibm, NN), (ami...               86  \n",
       "5      [(atomicwallet, NN), (implemented, VBN), (best...              156  \n",
       "...                                                  ...              ...  \n",
       "12126  [(binance, NN), (hack, NN), (7000, CD), (bitco...              237  \n",
       "12127  [(business, NN), (usual, JJ), (hacking, NN), (...              230  \n",
       "12133  [(another, DT), (exchange, NN), (hackedpeople,...              228  \n",
       "12135  [(todays, NNS), (cryptonews, NNS), (ice, RB), ...              218  \n",
       "12136  [(binance, NN), (good, JJ), (morning, NN), (mr...              232  \n",
       "\n",
       "[4342 rows x 8 columns]"
      ]
     },
     "execution_count": 34,
     "metadata": {},
     "output_type": "execute_result"
    }
   ],
   "source": [
    "train_df"
   ]
  },
  {
   "cell_type": "code",
   "execution_count": 35,
   "metadata": {},
   "outputs": [
    {
     "name": "stderr",
     "output_type": "stream",
     "text": [
      "/home/nikita/anaconda3/envs/happywhale/lib/python3.9/site-packages/tqdm/auto.py:22: TqdmWarning: IProgress not found. Please update jupyter and ipywidgets. See https://ipywidgets.readthedocs.io/en/stable/user_install.html\n",
      "  from .autonotebook import tqdm as notebook_tqdm\n"
     ]
    }
   ],
   "source": [
    "from transformers import BertTokenizer"
   ]
  },
  {
   "cell_type": "code",
   "execution_count": 36,
   "metadata": {},
   "outputs": [
    {
     "name": "stderr",
     "output_type": "stream",
     "text": [
      "Downloading: 100%|██████████| 226k/226k [00:00<00:00, 405kB/s] \n",
      "Downloading: 100%|██████████| 28.0/28.0 [00:00<00:00, 12.5kB/s]\n",
      "Downloading: 100%|██████████| 570/570 [00:00<00:00, 277kB/s]\n"
     ]
    }
   ],
   "source": [
    "tokenizer = BertTokenizer.from_pretrained('bert-base-uncased', do_lower_case=True)"
   ]
  },
  {
   "cell_type": "markdown",
   "metadata": {},
   "source": [
    "## Check maximum BERT tweet length"
   ]
  },
  {
   "cell_type": "code",
   "execution_count": 44,
   "metadata": {},
   "outputs": [],
   "source": [
    "train_df_original['text_without_li_sp_em'] = \\\n",
    "    train_df_original['Text'].apply(lambda x: remove_URL(x))\n",
    "train_df_original['text_without_li_sp_em'] = \\\n",
    "    train_df_original['text_without_li_sp_em'].apply(lambda x: remove_emoji(x))\n",
    "train_df_original['text_without_li_sp_em'] = \\\n",
    "    train_df_original['text_without_li_sp_em'].apply(lambda x: remove_html(x))\n",
    "\n",
    "train_df['text_without_li_sp_em'] = \\\n",
    "    train_df['Text'].apply(lambda x: remove_URL(x))\n",
    "train_df['text_without_li_sp_em'] = \\\n",
    "    train_df['text_without_li_sp_em'].apply(lambda x: remove_emoji(x))\n",
    "train_df['text_without_li_sp_em'] = \\\n",
    "    train_df['text_without_li_sp_em'].apply(lambda x: remove_html(x))"
   ]
  },
  {
   "cell_type": "code",
   "execution_count": 64,
   "metadata": {},
   "outputs": [
    {
     "name": "stdout",
     "output_type": "stream",
     "text": [
      "Max sentence length for row text:  993\n",
      "Max sentence length for text after removing links, emojis and htmls:  185\n",
      "Max sentence length for training text only after removing links, emojis and htmls:  185\n"
     ]
    }
   ],
   "source": [
    "max_len = 0\n",
    "\n",
    "for text in train_df_original.groupby(by='Text').groups.keys():    \n",
    "    input_ids = tokenizer.encode(text, add_special_tokens=True)    \n",
    "    max_len = max(max_len, len(input_ids))\n",
    "\n",
    "print('Max sentence length for row text: ', max_len)\n",
    "\n",
    "max_len = 0\n",
    "\n",
    "for text in train_df_original.text_without_li_sp_em:    \n",
    "    input_ids = tokenizer.encode(text, add_special_tokens=True)    \n",
    "    max_len = max(max_len, len(input_ids))\n",
    "\n",
    "print('Max sentence length for text after removing links, emojis and htmls: ', max_len)\n",
    "\n",
    "max_len = 0\n",
    "longest_train_text = None\n",
    "for text in train_df.text_without_li_sp_em:    \n",
    "    input_ids = tokenizer.encode(text, add_special_tokens=True)\n",
    "    if max_len < len(input_ids):\n",
    "        longest_train_text = text\n",
    "    max_len = max(max_len, len(input_ids))\n",
    "\n",
    "print('Max sentence length for training text only after removing links, emojis and htmls: ', max_len)"
   ]
  },
  {
   "cell_type": "code",
   "execution_count": 65,
   "metadata": {},
   "outputs": [
    {
     "name": "stdout",
     "output_type": "stream",
     "text": [
      "Longest text in train dataset for BERT -  @ArkadiahF @FUNCTIONX_IO @PundiXLabs @zibin @binance @cz_binance @kucoincom @Hotbit_news @HuobiGlobal @BittrexExchange @Poloniex @krakenfx @Byte_Produce @odesk_mouhcine @PundiXFunctionX @PundiXLabs_jp @wanchain_org @Pundixforce1 @RealSahabia @RussellOkung I must admit, things are really heating up with #Fx @FUNCTIONX_IO. upcoming #mainnet is a game changer  with a passionate team like @PundiXLabs, investment is #SAFUSit back enjoy the #staking reward  wait patiently for #mainnet then #Lambo@zibin abd team, take us to mainnet\n"
     ]
    }
   ],
   "source": [
    "print(\"Longest text in train dataset for BERT - \", longest_train_text)"
   ]
  },
  {
   "cell_type": "code",
   "execution_count": null,
   "metadata": {},
   "outputs": [],
   "source": []
  }
 ],
 "metadata": {
  "kernelspec": {
   "display_name": "Python 3.9.12 ('happywhale')",
   "language": "python",
   "name": "python3"
  },
  "language_info": {
   "codemirror_mode": {
    "name": "ipython",
    "version": 3
   },
   "file_extension": ".py",
   "mimetype": "text/x-python",
   "name": "python",
   "nbconvert_exporter": "python",
   "pygments_lexer": "ipython3",
   "version": "3.9.12"
  },
  "orig_nbformat": 4,
  "vscode": {
   "interpreter": {
    "hash": "fb5ca7d7c92aff9d7ce7c6aaa6e6a85ea706c1d397d54c354600ab6b333c4952"
   }
  }
 },
 "nbformat": 4,
 "nbformat_minor": 2
}
